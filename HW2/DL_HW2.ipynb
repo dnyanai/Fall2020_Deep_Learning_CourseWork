{
 "cells": [
  {
   "cell_type": "markdown",
   "metadata": {},
   "source": [
    "## DL Assignment 2\n",
    "\n",
    "### Team-  Apurva Shekhar || Dnyanai Surkutwar || Ritu Ranjani Ravi Shankar || Suchita Negi"
   ]
  },
  {
   "cell_type": "markdown",
   "metadata": {},
   "source": [
    "### 1. Consider the following computational graph:<img src='imgs/hw2-Q1.jpg'><br>Use the Gradient Flow Rules to compute the gradients for all the arcs in the graph.<br><br>(2 points)"
   ]
  },
  {
   "cell_type": "markdown",
   "metadata": {},
   "source": [
    "<b>Answer:</b>"
   ]
  },
  {
   "cell_type": "markdown",
   "metadata": {},
   "source": [
    "### 2. Consider a Deep Feed Forward Network, of the type shown on Page 16 of Lecture 4 Slides,composed of an Input Layer with 10 nodes, followed by a Hidden Layer with 50 nodes and finally an Output Layer with 3 nodes. Assume the activation function f is given by ReLU, and the output function h is given by Softmax.<br><ul><li>a.  Compute the number of parameters (weights and biases) required to describe the network.</li><br><li>b. Write a Python program to do a forward pass through the network. Assume that the input training sample X = (0.5, 0.6, 0.1, 0.25, 0.33, 0.9, 0.88, 0.76, 0.69, 0.95). Also assume that all the weights and biases are initialized according to a Uniform distribution between [0,0.1]</li><br><li>c. Assuming that the output Label corresponding to X, is T = (1, 0, 0). Using the results of part (b), compute the Cross Entropy Loss Function.In order to verify the forward pass, the Loss Function should compute to log(3),explain why.</li><br><li>d. Write a Python program to do a backward pass through the network, and compute all the delta values.</li><br><li>e. Finally extend the Python program to compute the new weight parameters using stochastic gradient descent.<br>In order to verify that the algorithm has been coded correctly, you can do the following: Put the forward and backward passes in a loop (with the single training sample given in Part (b) and the corresponding Label in Part (c)). After several iterations you should see the Loss Function go to zero (explain why).</ul><br><br>(15 points)"
   ]
  },
  {
   "cell_type": "markdown",
   "metadata": {},
   "source": [
    "<b>Answer:</b>"
   ]
  },
  {
   "cell_type": "markdown",
   "metadata": {},
   "source": [
    "## a) <img src=\"imgs/Q2a.jpg\">"
   ]
  },
  {
   "cell_type": "markdown",
   "metadata": {},
   "source": [
    "## b) "
   ]
  },
  {
   "cell_type": "code",
   "execution_count": 191,
   "metadata": {},
   "outputs": [
    {
     "data": {
      "text/plain": [
       "array([[0.15064566, 0.13949882, 0.11145076, 0.1302128 , 0.16352552],\n",
       "       [0.15064566, 0.13949882, 0.11145076, 0.1302128 , 0.16352552],\n",
       "       [0.15064566, 0.13949882, 0.11145076, 0.1302128 , 0.16352552],\n",
       "       [0.15064566, 0.13949882, 0.11145076, 0.1302128 , 0.16352552],\n",
       "       [0.15064566, 0.13949882, 0.11145076, 0.1302128 , 0.16352552]])"
      ]
     },
     "execution_count": 191,
     "metadata": {},
     "output_type": "execute_result"
    }
   ],
   "source": [
    "a = np.full((50,1),np.random.uniform(0,0.01))\n",
    "a.shape\n",
    "np.random.seed(4)\n",
    "x = [0.5, 0.6, 0.1]\n",
    "s = np.dot(np.random.uniform(0,0.1,(5,3)),x) + np.full((5,1),np.random.uniform(0,0.1))\n",
    "#w =np.random.randn(50,10)*0.01\n",
    "s"
   ]
  },
  {
   "cell_type": "code",
   "execution_count": 195,
   "metadata": {},
   "outputs": [
    {
     "name": "stdout",
     "output_type": "stream",
     "text": [
      "The size of the input layer is:  10\n",
      "The size of the hidden layer is:  50\n",
      "The size of the output layer is:  3\n",
      "----------------------------------------------------------------------------------------------------\n",
      "The size of the weights for the 1st layer i.e. hidden layer is: (50, 10)\n",
      "The size of the bias for the 1st layer i.e. hidden layer is: (50, 1)\n",
      "The size of the weights for the 2st layer i.e. output layer is: (3, 50)\n",
      "The size of the bias for the 2st layer i.e. output layer is: (3, 1)\n",
      "----------------------------------------------------------------------------------------------------\n"
     ]
    },
    {
     "ename": "TypeError",
     "evalue": "loop of ufunc does not support argument 0 of type numpy.ndarray which has no callable exp method",
     "output_type": "error",
     "traceback": [
      "\u001b[1;31m---------------------------------------------------------------------------\u001b[0m",
      "\u001b[1;31mAttributeError\u001b[0m                            Traceback (most recent call last)",
      "\u001b[1;31mAttributeError\u001b[0m: 'numpy.ndarray' object has no attribute 'exp'",
      "\nThe above exception was the direct cause of the following exception:\n",
      "\u001b[1;31mTypeError\u001b[0m                                 Traceback (most recent call last)",
      "\u001b[1;32m<ipython-input-195-a98c8c247359>\u001b[0m in \u001b[0;36m<module>\u001b[1;34m\u001b[0m\n\u001b[0;32m     66\u001b[0m \u001b[0mA1\u001b[0m \u001b[1;33m=\u001b[0m \u001b[0mX_train\u001b[0m\u001b[1;33m.\u001b[0m\u001b[0mactivation_ReLU\u001b[0m\u001b[1;33m(\u001b[0m\u001b[0mZ1\u001b[0m\u001b[1;33m)\u001b[0m\u001b[1;33m\u001b[0m\u001b[1;33m\u001b[0m\u001b[0m\n\u001b[0;32m     67\u001b[0m \u001b[0mZ2\u001b[0m \u001b[1;33m=\u001b[0m \u001b[1;33m(\u001b[0m\u001b[0mparams\u001b[0m\u001b[1;33m[\u001b[0m\u001b[1;34m\"W2\"\u001b[0m\u001b[1;33m]\u001b[0m\u001b[1;33m,\u001b[0m\u001b[0mA1\u001b[0m\u001b[1;33m,\u001b[0m\u001b[0mparams\u001b[0m\u001b[1;33m[\u001b[0m\u001b[1;34m\"b2\"\u001b[0m\u001b[1;33m]\u001b[0m\u001b[1;33m)\u001b[0m\u001b[1;33m\u001b[0m\u001b[1;33m\u001b[0m\u001b[0m\n\u001b[1;32m---> 68\u001b[1;33m \u001b[0mY\u001b[0m \u001b[1;33m=\u001b[0m \u001b[0mX_train\u001b[0m\u001b[1;33m.\u001b[0m\u001b[0moutput_Softmax\u001b[0m\u001b[1;33m(\u001b[0m\u001b[0mZ2\u001b[0m\u001b[1;33m)\u001b[0m \u001b[1;31m## A2\u001b[0m\u001b[1;33m\u001b[0m\u001b[1;33m\u001b[0m\u001b[0m\n\u001b[0m\u001b[0;32m     69\u001b[0m \u001b[1;33m\u001b[0m\u001b[0m\n\u001b[0;32m     70\u001b[0m \u001b[0mprint\u001b[0m\u001b[1;33m(\u001b[0m\u001b[1;34m'The output vector size is :'\u001b[0m\u001b[1;33m,\u001b[0m\u001b[0mY\u001b[0m\u001b[1;33m.\u001b[0m\u001b[0mshape\u001b[0m\u001b[1;33m)\u001b[0m\u001b[1;33m\u001b[0m\u001b[1;33m\u001b[0m\u001b[0m\n",
      "\u001b[1;32m<ipython-input-195-a98c8c247359>\u001b[0m in \u001b[0;36moutput_Softmax\u001b[1;34m(self, z2)\u001b[0m\n\u001b[0;32m     37\u001b[0m \u001b[1;33m\u001b[0m\u001b[0m\n\u001b[0;32m     38\u001b[0m     \u001b[1;32mdef\u001b[0m \u001b[0moutput_Softmax\u001b[0m\u001b[1;33m(\u001b[0m\u001b[0mself\u001b[0m\u001b[1;33m,\u001b[0m\u001b[0mz2\u001b[0m\u001b[1;33m)\u001b[0m\u001b[1;33m:\u001b[0m\u001b[1;33m\u001b[0m\u001b[1;33m\u001b[0m\u001b[0m\n\u001b[1;32m---> 39\u001b[1;33m         \u001b[0mnumerator\u001b[0m \u001b[1;33m=\u001b[0m \u001b[0mnp\u001b[0m\u001b[1;33m.\u001b[0m\u001b[0mexp\u001b[0m\u001b[1;33m(\u001b[0m\u001b[0mz2\u001b[0m\u001b[1;33m)\u001b[0m\u001b[1;33m\u001b[0m\u001b[1;33m\u001b[0m\u001b[0m\n\u001b[0m\u001b[0;32m     40\u001b[0m         \u001b[0mdenominator\u001b[0m \u001b[1;33m=\u001b[0m \u001b[0msum\u001b[0m\u001b[1;33m(\u001b[0m\u001b[0mnp\u001b[0m\u001b[1;33m.\u001b[0m\u001b[0mexp\u001b[0m\u001b[1;33m(\u001b[0m\u001b[0mz2\u001b[0m\u001b[1;33m)\u001b[0m\u001b[1;33m)\u001b[0m\u001b[1;33m\u001b[0m\u001b[1;33m\u001b[0m\u001b[0m\n\u001b[0;32m     41\u001b[0m         \u001b[1;32mreturn\u001b[0m \u001b[0mnumerator\u001b[0m\u001b[1;33m/\u001b[0m\u001b[0mdenominator\u001b[0m\u001b[1;33m\u001b[0m\u001b[1;33m\u001b[0m\u001b[0m\n",
      "\u001b[1;31mTypeError\u001b[0m: loop of ufunc does not support argument 0 of type numpy.ndarray which has no callable exp method"
     ]
    }
   ],
   "source": [
    "import numpy as np\n",
    "\n",
    "class model_FFNN:\n",
    "    \n",
    "    def __init__(self,X,Y):\n",
    "        self.X = X\n",
    "        self.Y = Y ## T labels\n",
    "        \n",
    "    def model_layer_sizes(self):\n",
    "        n_x = self.X.shape[0]\n",
    "        n_h = 50\n",
    "        n_y = self.Y.shape[0]\n",
    "        return (n_x,n_h,n_y)\n",
    "\n",
    "    def parameters_initialize(self):\n",
    "        \n",
    "        np.random.seed(5)\n",
    "        ## Wts and biases for the first layer i.e. hidden layer,\n",
    "        W1 = np.random.uniform(0,0.1,(n_h,n_x))\n",
    "        b1 = np.full((n_h,1),np.random.uniform(0,0.1))\n",
    "\n",
    "        ## Wts and biases for the output layer,\n",
    "        W2 = np.random.uniform(0,0.1,(n_y,n_h))\n",
    "        b2 = np.full((n_y,1),(np.random.uniform(0,0.1)))\n",
    "\n",
    "        assert (W1.shape == (n_h, n_x))\n",
    "        assert (b1.shape == (n_h, 1))\n",
    "        assert (W2.shape == (n_y, n_h))\n",
    "        assert (b2.shape == (n_y, 1))\n",
    "       \n",
    "        params = {\"W1\":W1,\"b1\":b1,\"W2\":W2,\"b2\":b2}\n",
    "        \n",
    "        return params\n",
    "        \n",
    "    def activation_ReLU(self,z):\n",
    "        return np.maximum(0,z)\n",
    "        \n",
    "    def output_Softmax(self,z2):\n",
    "        numerator = np.exp(z2)\n",
    "        denominator = sum(np.exp(z2))\n",
    "        return numerator/denominator\n",
    "\n",
    "X_train = model_FFNN(np.array([0.5, 0.6, 0.1, 0.25, 0.33, 0.9, 0.88, 0.76, 0.69, 0.95]),np.array([1, 0, 0]))\n",
    "\n",
    "    \n",
    "## Step1: Setting up the model layers and their vector shapes:\n",
    "(n_x,n_h,n_y) = X_train.model_layer_sizes()\n",
    "\n",
    "print('The size of the input layer is: ',n_x)\n",
    "print('The size of the hidden layer is: ',n_h)\n",
    "print('The size of the output layer is: ',n_y)\n",
    "print('-'*100)\n",
    "\n",
    "## Step2: Creating parameters in accordance to the training samples for the respective layers of the model \n",
    "params = X_train.parameters_initialize()\n",
    "\n",
    "print('The size of the weights for the 1st layer i.e. hidden layer is:',params[\"W1\"].shape)\n",
    "print('The size of the bias for the 1st layer i.e. hidden layer is:',params[\"b1\"].shape)\n",
    "print('The size of the weights for the 2st layer i.e. output layer is:',params[\"W2\"].shape)\n",
    "print('The size of the bias for the 2st layer i.e. output layer is:',params[\"b2\"].shape)\n",
    "print('-'*100)\n",
    "\n",
    "## Step3: Caculate the forward pass: A1,Z1\n",
    "# Pre-activation:\n",
    "Z1 = np.dot(params[\"W1\"],X_train.X) + params[\"b1\"]\n",
    "A1 = X_train.activation_ReLU(Z1)\n",
    "Z2 = (params[\"W2\"],A1,params[\"b2\"])\n",
    "Y = X_train.output_Softmax(Z2) ## A2\n",
    "\n",
    "print('The output vector size is :',Y.shape)\n"
   ]
  },
  {
   "cell_type": "code",
   "execution_count": 151,
   "metadata": {},
   "outputs": [
    {
     "data": {
      "text/plain": [
       "array([18.45671616, 18.01530137, 14.62564169, 11.71299753, 13.32572991,\n",
       "       13.88620043, 18.7618109 , 12.42134166,  9.11209763, 15.08474648,\n",
       "       20.00726622, 14.94831931, 11.73505849, 11.82781064, 14.19702559,\n",
       "       15.864557  , 13.68763303, 20.85799625, 20.85798135, 15.25075063,\n",
       "       15.46929783, 17.01460495, 16.11026151, 13.38596589, 15.65399067,\n",
       "       14.56376222, 18.64319377, 17.05206313, 13.44348134, 14.58293398,\n",
       "       17.8267419 , 14.45704835, 16.48315822, 14.91954575, 18.25317906,\n",
       "       14.90124364, 14.321147  , 16.8361744 , 11.98042856, 16.56223437,\n",
       "       18.48345241,  9.95703954, 17.12670777, 14.20979414, 11.14656528,\n",
       "       20.43976091, 18.33844573, 16.75575538, 16.29787428, 19.04894529])"
      ]
     },
     "execution_count": 151,
     "metadata": {},
     "output_type": "execute_result"
    }
   ],
   "source": [
    "z1 = (np.dot(params[\"W1\"],X_train.X) + params[\"b1\"])\n",
    "a1 = X_train.activation_ReLU(sum(z1))\n",
    "a1"
   ]
  },
  {
   "cell_type": "markdown",
   "metadata": {},
   "source": [
    "### 3. The MNIST_Fashion dataset comes with Keras, and can be loaded using the commands: fashion_mnist = keras.datasets.fashion_mnist(train_images, train_labels), (test_images, test_labels) = fashion_mnist.load_data() This dataset corresponds to grayscale coded images of various clothing items. Just as in MNIST, there are 10 classes and each image is a 28*28 matrix (see https://www.tensorflow.org/tutorials/keras/basic_classification for more information about this dataset). Answer the following:<br><ul><li>a. What is the best classification accuracy that you can achieve with the Linear Model on this dataset?</li><li>b. Replace the Linear model with a Fully Connected Feed Forward Model with one or more Hidden Layers. What is the best classification accuracy that you can achieve with this model? In order to get better performance , you can vary the number of hidden layers and the number of nodes per hidden layer</li></ul><br><br>(8 Points)"
   ]
  },
  {
   "cell_type": "markdown",
   "metadata": {},
   "source": [
    "<b>Answer:</b>"
   ]
  },
  {
   "cell_type": "markdown",
   "metadata": {},
   "source": [
    "### 4. The figure above shows an example of Ensemble Processing (see Lecture 4). Start with the best model that you have after doing Problem 3, and replicate that model 3 times in a parallel configuration as shown in the figure (use the Keras Functional API for doing this). Take the final logit nodes from each branch and average it to create the final logit layer for the model (see https://keras.io/api/layers/merging_layers/average/ on how to do this). Train the model again on the fashion_mnist dataset, and check for an improvement in prediction accuracy (if any).<img src=\"imgs/hw2-Q4.jpg\"><br><br>(5 Points)"
   ]
  },
  {
   "cell_type": "markdown",
   "metadata": {},
   "source": [
    "<b>Answer:</b>"
   ]
  },
  {
   "cell_type": "code",
   "execution_count": null,
   "metadata": {},
   "outputs": [],
   "source": []
  }
 ],
 "metadata": {
  "kernelspec": {
   "display_name": "Python 3",
   "language": "python",
   "name": "python3"
  },
  "language_info": {
   "codemirror_mode": {
    "name": "ipython",
    "version": 3
   },
   "file_extension": ".py",
   "mimetype": "text/x-python",
   "name": "python",
   "nbconvert_exporter": "python",
   "pygments_lexer": "ipython3",
   "version": "3.7.6"
  }
 },
 "nbformat": 4,
 "nbformat_minor": 4
}
